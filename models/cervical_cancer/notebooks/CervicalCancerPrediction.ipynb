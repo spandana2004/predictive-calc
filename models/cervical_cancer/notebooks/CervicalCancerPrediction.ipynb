import pandas as pd
import numpy as np
from sklearn.model_selection import train_test_split
from sklearn.preprocessing import StandardScaler
from sklearn.impute import SimpleImputer
from sklearn.ensemble import RandomForestClassifier
from sklearn.metrics import accuracy_score, classification_report

# Load the data
data = pd.read_csv('../data/kag_risk_factors_cervical_cancer.csv')
data.replace('?', np.nan, inplace=True)
data = data.apply(pd.to_numeric, errors='coerce')

# Splitting the dataset
X = data.drop(columns=['Dx'])
y = data['Dx']
X_train, X_test, y_train, y_test = train_test_split(X, y, test_size=0.2, random_state=42)

# Preprocessing - Scaling and Imputing missing values
scaler = StandardScaler()
X_train_scaled = scaler.fit_transform(X_train)
X_test_scaled = scaler.transform(X_test)

imputer = SimpleImputer(strategy='mean')
X_train_imputed = imputer.fit_transform(X_train_scaled)
X_test_imputed = imputer.transform(X_test_scaled)

# Model Training
model = RandomForestClassifier()
model.fit(X_train_imputed, y_train)

# Predictions
y_pred = model.predict(X_test_imputed)

# Evaluation
accuracy = accuracy_score(y_test, y_pred)
report = classification_report(y_test, y_pred)

print(f"Accuracy: {accuracy}")
print(f"Classification Report:\n{report}")
